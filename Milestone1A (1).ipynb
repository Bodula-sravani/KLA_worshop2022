{
  "nbformat": 4,
  "nbformat_minor": 0,
  "metadata": {
    "colab": {
      "name": "Milestone1A",
      "provenance": [],
      "collapsed_sections": []
    },
    "kernelspec": {
      "name": "python3",
      "display_name": "Python 3"
    },
    "language_info": {
      "name": "python"
    }
  },
  "cells": [
    {
      "cell_type": "code",
      "source": [
        "! pip install -U pyyaml"
      ],
      "metadata": {
        "id": "-CxZkk9goDTs"
      },
      "execution_count": null,
      "outputs": []
    },
    {
      "cell_type": "code",
      "execution_count": null,
      "metadata": {
        "id": "FjpeM2KXlfqB"
      },
      "outputs": [],
      "source": [
        "from google.colab import drive\n"
      ]
    },
    {
      "cell_type": "code",
      "source": [
        "import yaml\n",
        "import threading\n",
        "import time\n",
        "import datetime\n",
        "\n",
        "#Task Function \"TimeFunction\"\n",
        "def TimeFunction(time_t,args):\n",
        "  print(\"{0};{1} Executing TimeFunction ({2}, {3})\".format(datetime.datetime.now(),\".\".join(args),time_t[0],time_t[1]))  \n",
        "  time.sleep(int(time_t[1]))\n",
        "\n",
        "def task(d,args):\n",
        "  flag = 0\n",
        "  for key,value in d.items():\n",
        "    if key == 'Type' and value =='Flow':\n",
        "      continue\n",
        "    elif key == 'Type' and value == 'Task':\n",
        "      continue\n",
        "    elif key == 'Activities':\n",
        "      activities(value,args)\n",
        "    elif key == 'Function':\n",
        "      function = d[key]\n",
        "      flag =1\n",
        "    elif key =='Inputs':\n",
        "      inputs = list(d[key].values())\n",
        "      flag =1\n",
        "    else:\n",
        "      continue\n",
        "  if flag ==1:\n",
        "    eval('{0}({1},{2})'.format(function,inputs,args))\n",
        "    print(\"{0};{1} Exit\".format(datetime.datetime.now(),\".\".join(args)))\n",
        "    args.pop()\n",
        "\n",
        "\n",
        "\n",
        "def activities(d,args):\n",
        "  for key,value in d.items():\n",
        "    if type(value) is dict:\n",
        "      args.append(key)\n",
        "      print(\"{0};{1} Entry\".format(datetime.datetime.now(),\".\".join(args)))\n",
        "      task(value,args)\n",
        "    else:\n",
        "      continue\n",
        "  print(\"{0};{1} Exit\".format(datetime.datetime.now(),\".\".join(args)))  \n",
        "  args.pop()\n",
        "\n",
        "\n",
        "\n",
        "def flow(d,args):\n",
        "  print(\"{0};{1} Entry\".format(datetime.datetime.now(),\".\".join((args))))\n",
        "  for key , value in d.items():\n",
        "    if key == 'Activities':\n",
        "      activities(value,args)\n",
        "    elif key == 'Execution' and value == 'Sequential':\n",
        "      continue\n",
        "    elif key == 'Type':\n",
        "      continue\n",
        "    else:continue  \n",
        "\n",
        "if __name__ == \"__main__\":\n",
        "   with open(\"Milestone1A.yaml\") as m1a:\n",
        "     data = yaml.safe_load(m1a)\n",
        "   args=[]\n",
        "   for key, value in data.items():\n",
        "     args.append(key)\n",
        "     flow(value,args)\n",
        "\n",
        "\n"
      ],
      "metadata": {
        "id": "febLM2r5o32z",
        "colab": {
          "base_uri": "https://localhost:8080/"
        },
        "outputId": "14d12bc7-5667-468b-df2a-33de255c5965"
      },
      "execution_count": 93,
      "outputs": [
        {
          "output_type": "stream",
          "name": "stdout",
          "text": [
            "2022-03-08 09:12:42.423452;M1A_Workflow Entry\n",
            "2022-03-08 09:12:42.423629;M1A_Workflow.TaskA Entry\n",
            "2022-03-08 09:12:42.423784;M1A_Workflow.TaskA Executing TimeFunction (TaskA_Input, 1)\n",
            "2022-03-08 09:12:43.424963;M1A_Workflow.TaskA Exit\n",
            "2022-03-08 09:12:43.425216;M1A_Workflow.TaskB Entry\n",
            "2022-03-08 09:12:43.425418;M1A_Workflow.TaskB Executing TimeFunction (TaskB_Input, 2)\n",
            "2022-03-08 09:12:45.427609;M1A_Workflow.TaskB Exit\n",
            "2022-03-08 09:12:45.427866;M1A_Workflow.FlowA Entry\n",
            "2022-03-08 09:12:45.427926;M1A_Workflow.FlowA.TaskC Entry\n",
            "2022-03-08 09:12:45.428089;M1A_Workflow.FlowA.TaskC Executing TimeFunction (TaskC_Input, 3)\n",
            "2022-03-08 09:12:48.431303;M1A_Workflow.FlowA.TaskC Exit\n",
            "2022-03-08 09:12:48.432652;M1A_Workflow.FlowA.TaskD Entry\n",
            "2022-03-08 09:12:48.432859;M1A_Workflow.FlowA.TaskD Executing TimeFunction (TaskD_Input, 4)\n",
            "2022-03-08 09:12:52.437016;M1A_Workflow.FlowA.TaskD Exit\n",
            "2022-03-08 09:12:52.437251;M1A_Workflow.FlowA Exit\n",
            "2022-03-08 09:12:52.437299;M1A_Workflow Exit\n"
          ]
        }
      ]
    }
  ]
}